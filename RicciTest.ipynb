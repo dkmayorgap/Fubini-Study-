{
 "cells": [
  {
   "cell_type": "code",
   "execution_count": 1,
   "metadata": {},
   "outputs": [],
   "source": [
    "import numpy as np\n",
    "import tensorflow as tf\n",
    "from models import ProjectiveSpace\n",
    "from monte_carlo_integrate import Integrate\n",
    "\n",
    "import matplotlib.pyplot as plt\n",
    "import time"
   ]
  },
  {
   "cell_type": "code",
   "execution_count": 2,
   "metadata": {},
   "outputs": [
    {
     "name": "stdout",
     "output_type": "stream",
     "text": [
      "<tf.Variable 'Variable:0' shape=(1, 6) dtype=float64, numpy=\n",
      "array([[3.14442139, 7.18072869, 6.09939623, 5.49500797, 9.08213621,\n",
      "        6.1161852 ]])>\n",
      "(11.999999999965723-2.043595807027222e-11j) = 3(3+1) = 12\n"
     ]
    }
   ],
   "source": [
    "n = 3\n",
    "proj = ProjectiveSpace(n)\n",
    "x, _ = Integrate.generateDomain(lambda x: True, -int(10), int(10), 2*n, 1)\n",
    "points = tf.Variable(x, tf.float32)\n",
    "print(points)\n",
    "\n",
    "riemm = proj.getRiemann(points)\n",
    "metric = proj.getMetric(points)\n",
    "g_inv = np.linalg.inv(metric)\n",
    "\n",
    "ricci = tf.einsum(\"xabya->xby\", riemm)\n",
    "r_scalar = tf.einsum(\"xab,xab\", ricci, g_inv)\n",
    "print(f\"{r_scalar} = {n}({n}+1) = {n*(n+1)}\")"
   ]
  },
  {
   "cell_type": "code",
   "execution_count": 3,
   "metadata": {},
   "outputs": [],
   "source": [
    "christoffel = proj.getChristoffel(points)"
   ]
  },
  {
   "cell_type": "code",
   "execution_count": 4,
   "metadata": {},
   "outputs": [
    {
     "name": "stdout",
     "output_type": "stream",
     "text": [
      "1.7979101253009106e-15\n"
     ]
    }
   ],
   "source": [
    "# Symmetry test\n",
    "diffs = []\n",
    "for i in range(3):\n",
    "    for j in range(3):\n",
    "        for k in range(3):\n",
    "            diffs.append(christoffel[0, i, j, k] - christoffel[0, j, i, k])\n",
    "print(np.max(np.abs(diffs)))"
   ]
  },
  {
   "cell_type": "code",
   "execution_count": null,
   "metadata": {},
   "outputs": [],
   "source": []
  }
 ],
 "metadata": {
  "kernelspec": {
   "display_name": "Python 3",
   "language": "python",
   "name": "python3"
  },
  "language_info": {
   "codemirror_mode": {
    "name": "ipython",
    "version": 3
   },
   "file_extension": ".py",
   "mimetype": "text/x-python",
   "name": "python",
   "nbconvert_exporter": "python",
   "pygments_lexer": "ipython3",
   "version": "3.8.10"
  },
  "vscode": {
   "interpreter": {
    "hash": "ab65ef20e6a429cb563eedb46914bf4de76dfe10c8515c85a59a78767d8421eb"
   }
  }
 },
 "nbformat": 4,
 "nbformat_minor": 2
}
