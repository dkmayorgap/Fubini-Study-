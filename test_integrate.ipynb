{
 "cells": [
  {
   "cell_type": "code",
   "execution_count": 1,
   "metadata": {},
   "outputs": [],
   "source": [
    "import numpy as np\n",
    "import tensorflow as tf\n",
    "from models import ProjectiveSpace\n",
    "from monte_carlo_integrate import Integrate\n",
    "\n",
    "import matplotlib.pyplot as plt\n",
    "import time"
   ]
  },
  {
   "cell_type": "code",
   "execution_count": 2,
   "metadata": {},
   "outputs": [],
   "source": [
    "num_pts = 1000"
   ]
  },
  {
   "cell_type": "markdown",
   "metadata": {},
   "source": [
    "# Compute Chern form $c_1$ on $\\mathbb{C}\\mathbb{P}^1$.\n",
    "The integral is given by:\n",
    "$$\\int_{\\mathbb{C}\\mathbb{P}^1} c_1 = 2$$\n",
    "The volume is given by:\n",
    "$$\\int_{\\mathbb{C}\\mathbb{P}^1}\\star_{g_\\text{FS}} = \\int_{\\mathbb{C}\\mathbb{P}^1}\\det{g_\\text{FS}} = \\pi$$"
   ]
  },
  {
   "cell_type": "code",
   "execution_count": 3,
   "metadata": {},
   "outputs": [
    {
     "name": "stdout",
     "output_type": "stream",
     "text": [
      "Integral of the metric = 3.1275395650844353 on CP1. Should be 3.141592653589793\n",
      "sumString=xabca->xbc\n",
      "int_CP1 c1 = 1.991053501263153. Should be 1+1 = 2\n"
     ]
    }
   ],
   "source": [
    "n = 1\n",
    "x, p = Integrate.generateDomain(lambda x: True, -np.pi/2, np.pi/2, 2*n, num_pts)\n",
    "cpn = ProjectiveSpace(n)\n",
    "metric = cpn.getMetric(np.tan(x))\n",
    "riem = cpn.getRiemann(np.tan(x))\n",
    "\n",
    "norm_coeff = np.prod([np.power(1./np.cos(x[:, i]), 2) for i in range(x.shape[1])], axis=0)\n",
    "weights = p*norm_coeff\n",
    "\n",
    "print(f\"Integral of the metric = {np.mean(np.real(np.linalg.det(metric))*weights)} on CP{n}. Should be {np.power(np.pi,n) / np.math.factorial(n)}\")\n",
    "\n",
    "c1 = ProjectiveSpace.getC1(riem)\n",
    "c1_top = ProjectiveSpace.getTopNumber(c1)\n",
    "print(f\"int_CP1 c1 = {np.real(np.mean(c1_top*weights)*((-2*1j)**n))}. Should be {n}+1 = 2\")"
   ]
  },
  {
   "cell_type": "markdown",
   "metadata": {},
   "source": [
    "# Compute Chern forms $c_1$ and $c_2$ on $\\mathbb{C}\\mathbb{P}^2$.\n",
    "The possible integrals are:\n",
    "$$\\int_{\\mathbb{C}\\mathbb{P}^2} c_2 = 3$$\n",
    "and:\n",
    "$$\\int_{\\mathbb{C}\\mathbb{P}^2} c_1 \\wedge c_1 = (2+1)^2 = 9$$\n",
    "The volume is given by:\n",
    "$$\\int_{\\mathbb{C}\\mathbb{P}^2}\\star_{g_\\text{FS}} = \\int_{\\mathbb{C}\\mathbb{P}^2}\\det{g_\\text{FS}} = \\frac{\\pi^2}{2}$$"
   ]
  },
  {
   "cell_type": "code",
   "execution_count": 9,
   "metadata": {},
   "outputs": [
    {
     "name": "stdout",
     "output_type": "stream",
     "text": [
      "WARNING:tensorflow:5 out of the last 5 calls to <function ProjectiveSpace.getMetric at 0x358ecba60> triggered tf.function retracing. Tracing is expensive and the excessive number of tracings could be due to (1) creating @tf.function repeatedly in a loop, (2) passing tensors with different shapes, (3) passing Python objects instead of tensors. For (1), please define your @tf.function outside of the loop. For (2), @tf.function has experimental_relax_shapes=True option that relaxes argument shapes that can avoid unnecessary retracing. For (3), please refer to https://www.tensorflow.org/guide/function#controlling_retracing and https://www.tensorflow.org/api_docs/python/tf/function for  more details.\n",
      "WARNING:tensorflow:5 out of the last 5 calls to <function ProjectiveSpace.getRiemann at 0x332c823a0> triggered tf.function retracing. Tracing is expensive and the excessive number of tracings could be due to (1) creating @tf.function repeatedly in a loop, (2) passing tensors with different shapes, (3) passing Python objects instead of tensors. For (1), please define your @tf.function outside of the loop. For (2), @tf.function has experimental_relax_shapes=True option that relaxes argument shapes that can avoid unnecessary retracing. For (3), please refer to https://www.tensorflow.org/guide/function#controlling_retracing and https://www.tensorflow.org/api_docs/python/tf/function for  more details.\n",
      "Integral of the metric = 5.049873901343673 on CP2. Should be 4.934802200544679\n",
      "sumString=xabca->xbc\n",
      "sumStringSeparate=xabca,xdefd->xbcef\n",
      "sumString=xabcd,xdefa->xbcef\n",
      "int_CP2 c1 ^ c1 = 9.209865616710667. Should be (2+1)^2 = 9\n",
      "int_CP2 c2 = 3.0699552055695714. Should be 2+1 = 3\n"
     ]
    }
   ],
   "source": [
    "n = 2\n",
    "x, p = Integrate.generateDomain(lambda x: True, -np.pi/2, np.pi/2, 2*n, num_pts)\n",
    "cpn = ProjectiveSpace(n)\n",
    "metric = cpn.getMetric(np.tan(x))\n",
    "riem = cpn.getRiemann(np.tan(x))\n",
    "\n",
    "norm_coeff = np.prod([np.power(1./np.cos(x[:, i]), 2) for i in range(x.shape[1])], axis=0)\n",
    "weights = p*norm_coeff\n",
    "\n",
    "print(f\"Integral of the metric = {np.mean(np.real(np.linalg.det(metric))*weights)} on CP{n}. Should be {np.power(np.pi,n) / np.math.factorial(n)}\")\n",
    "\n",
    "c1 = ProjectiveSpace.getC1(riem)\n",
    "c2 = ProjectiveSpace.getC2(riem)\n",
    "\n",
    "c1c1_top = ProjectiveSpace.getTopNumber(\n",
    "    ProjectiveSpace.computeProduct(c1, c1))\n",
    "c2_top = ProjectiveSpace.getTopNumber(c2)\n",
    "\n",
    "print(f\"int_CP2 c1 ^ c1 = {np.real(np.mean(weights * c1c1_top) * (-2*1j)**n)}. Should be ({n}+1)^{n} = 9\")\n",
    "print(f\"int_CP2 c2 = {np.real(np.mean(weights * c2_top) * (-2*1j)**n)}. Should be {n}+1 = 3\")"
   ]
  },
  {
   "cell_type": "markdown",
   "metadata": {},
   "source": [
    "# Compute Chern forms $c_1$, $c_2$ and $c_3$ on $\\mathbb{C}\\mathbb{P}^3$.\n",
    "The possible integrals are:\n",
    "$$\\int_{\\mathbb{C}\\mathbb{P}^3} c_1\\wedge c_1 \\wedge c_1 = (3+1)^3 = 64$$\n",
    "$$\\int_{\\mathbb{C}\\mathbb{P}^3} c_1 \\wedge c_2 = 24$$\n",
    "and\n",
    "$$\\int_{\\mathbb{C}\\mathbb{P}^3} c_3 = 4$$\n",
    "The volume is given by:\n",
    "$$\\int_{\\mathbb{C}\\mathbb{P}^3}\\star_{g_\\text{FS}} = \\int_{\\mathbb{C}\\mathbb{P}^3}\\det{g_\\text{FS}} = \\frac{\\pi^3}{3!}$$"
   ]
  },
  {
   "cell_type": "code",
   "execution_count": 11,
   "metadata": {},
   "outputs": [
    {
     "name": "stdout",
     "output_type": "stream",
     "text": [
      "Integral of the metric = 5.079769471120497 on CP3. Should be 5.167712780049969\n",
      "sumString=xabca->xbc\n",
      "sumStringSeparate=xabca,xdefd->xbcef\n",
      "sumString=xabcd,xdefa->xbcef\n",
      "sumString=xabcd,xdefa->xbcef\n",
      "sumString=xabcd,xdefg,xghia->xbcefhi\n",
      "sumString=xabca->xbc\n",
      "sumStringSeparate=xabca,xdefd->xbcef\n",
      "sumString=xabcd,xdefa->xbcef\n",
      "Shapes are: t1=(1000, 3, 3, 3, 3, 3, 3), t2=(1000, 3, 3, 3, 3, 3, 3), t3=(1000, 3, 3, 3, 3, 3, 3)\n",
      "int_CP3 c1 ^ c1 ^ c1 = 62.91085824404293. Should be (3+1)^3 = 64.\n",
      "int_CP3 c1 ^ c2 = 23.59157184151652. Should be 24.\n",
      "int_CP3 c3 = 3.9319286402530014. Should be 4.\n"
     ]
    }
   ],
   "source": [
    "n = 3\n",
    "x, p = Integrate.generateDomain(lambda x: True, -np.pi/2, np.pi/2, 2*n, num_pts)\n",
    "cpn = ProjectiveSpace(n)\n",
    "metric = cpn.getMetric(np.tan(x))\n",
    "riem = cpn.getRiemann(np.tan(x))\n",
    "\n",
    "norm_coeff = np.prod([np.power(1./np.cos(x[:, i]), 2) for i in range(x.shape[1])], axis=0)\n",
    "weights = p*norm_coeff\n",
    "\n",
    "print(f\"Integral of the metric = {np.mean(np.real(np.linalg.det(metric))*weights)} on CP{n}. Should be {np.power(np.pi,n) / np.math.factorial(n)}\")\n",
    "\n",
    "c1 = ProjectiveSpace.getC1(riem)\n",
    "c2 = ProjectiveSpace.getC2(riem)\n",
    "c3 = ProjectiveSpace.getC3(riem)\n",
    "\n",
    "c1c1c1_top = ProjectiveSpace.getTopNumber(\n",
    "    ProjectiveSpace.computeProduct(\n",
    "        ProjectiveSpace.computeProduct(c1, c1), c1))\n",
    "c1c2_top = ProjectiveSpace.getTopNumber(\n",
    "    ProjectiveSpace.computeProduct(c1, c2))\n",
    "c3_top = ProjectiveSpace.getTopNumber(c3)\n",
    "\n",
    "print(f\"int_CP3 c1 ^ c1 ^ c1 = {np.real(np.mean(weights * c1c1c1_top) * (-2*1j)**n)}. Should be ({n}+1)^{n} = 64.\")\n",
    "print(f\"int_CP3 c1 ^ c2 = {np.real(np.mean(weights * c1c2_top) * (-2*1j)**n)}. Should be 24.\")\n",
    "print(f\"int_CP3 c3 = {np.real(np.mean(weights * c3_top)* (-2*1j)**n)}. Should be 4.\")"
   ]
  },
  {
   "cell_type": "markdown",
   "metadata": {},
   "source": [
    "# Compute Chern forms $c_1$, $c_2$ and $c_3$ on $\\mathbb{C}\\mathbb{P}^3$.\n",
    "Computes:\n",
    "$$\\int_{\\mathbb{C}\\mathbb{P}^4}c_1\\wedge c_1 \\wedge c_2 = 250$$"
   ]
  },
  {
   "cell_type": "code",
   "execution_count": 3,
   "metadata": {},
   "outputs": [
    {
     "name": "stderr",
     "output_type": "stream",
     "text": [
      "2022-05-11 11:08:33.854715: W tensorflow/core/platform/profile_utils/cpu_utils.cc:128] Failed to get CPU frequency: 0 Hz\n",
      "/Users/giorgibutbaia/Desktop/CalabiYau/metric/cymetric/cymetric/lib/python3.9/site-packages/numpy/linalg/linalg.py:2146: RuntimeWarning: divide by zero encountered in det\n",
      "  r = _umath_linalg.det(a, signature=signature)\n",
      "/Users/giorgibutbaia/Desktop/CalabiYau/metric/cymetric/cymetric/lib/python3.9/site-packages/numpy/linalg/linalg.py:2146: RuntimeWarning: invalid value encountered in det\n",
      "  r = _umath_linalg.det(a, signature=signature)\n"
     ]
    },
    {
     "name": "stdout",
     "output_type": "stream",
     "text": [
      "Integral of the metric = 3.8346515410391717 on CP4. Should be 4.058712126416768\n",
      "sumString=xabca->xbc\n",
      "sumStringSeparate=xabca,xdefd->xbcef\n",
      "sumString=xabcd,xdefa->xbcef\n",
      "int_CP4 c1 ^ c1 ^ c2 = 236.19878803884768. Should be 250.\n"
     ]
    }
   ],
   "source": [
    "n = 4\n",
    "x, p = Integrate.generateDomain(lambda x: True, -np.pi/2, np.pi/2, 2*n, num_pts)\n",
    "cpn = ProjectiveSpace(n)\n",
    "metric = cpn.getMetric(np.tan(x))\n",
    "riem = cpn.getRiemann(np.tan(x))\n",
    "\n",
    "norm_coeff = np.prod([np.power(1./np.cos(x[:, i]), 2) for i in range(x.shape[1])], axis=0)\n",
    "weights = p*norm_coeff\n",
    "\n",
    "print(f\"Integral of the metric = {np.mean(np.real(np.linalg.det(metric))*weights)} on CP{n}. Should be {np.power(np.pi,n) / np.math.factorial(n)}\")\n",
    "c1 = ProjectiveSpace.getC1(riem)\n",
    "c2 = ProjectiveSpace.getC2(riem)\n",
    "\n",
    "c1c1c2_top = ProjectiveSpace.getTopNumber(\n",
    "    np.asarray(\n",
    "        ProjectiveSpace.computeProduct(\n",
    "            ProjectiveSpace.computeProduct(c1, c1), c2)))\n",
    "\n",
    "print(f\"int_CP4 c1 ^ c1 ^ c2 = {np.real(np.mean(weights * c1c1c2_top)* (-2*1j)**n)}. Should be 250.\")"
   ]
  },
  {
   "cell_type": "code",
   "execution_count": null,
   "metadata": {},
   "outputs": [],
   "source": []
  }
 ],
 "metadata": {
  "kernelspec": {
   "display_name": "Python 3",
   "language": "python",
   "name": "python3"
  },
  "language_info": {
   "codemirror_mode": {
    "name": "ipython",
    "version": 3
   },
   "file_extension": ".py",
   "mimetype": "text/x-python",
   "name": "python",
   "nbconvert_exporter": "python",
   "pygments_lexer": "ipython3",
   "version": "3.8.10"
  }
 },
 "nbformat": 4,
 "nbformat_minor": 2
}
